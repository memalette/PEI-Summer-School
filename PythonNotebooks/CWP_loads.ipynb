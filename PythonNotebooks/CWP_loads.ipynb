{
 "cells": [
  {
   "cell_type": "code",
   "execution_count": 36,
   "metadata": {},
   "outputs": [],
   "source": [
    "%matplotlib inline\n",
    "import matplotlib.pyplot as plt\n",
    "import pandas as pd\n",
    "import numpy as np\n",
    "import numpy as np\n",
    "from __future__ import print_function\n",
    "import plotly.plotly as py\n",
    "import plotly.graph_objs as go\n",
    "from plotly import tools\n",
    "import seaborn as sns\n",
    "#import warnings # current version of seaborn generates a bunch of warnings that we'll ignore\n",
    "#warnings.filterwarnings(\"ignore\")\n",
    "import matplotlib.pyplot as plt"
   ]
  },
  {
   "cell_type": "code",
   "execution_count": 37,
   "metadata": {},
   "outputs": [],
   "source": [
    "import csv\n",
    "\n",
    "with open('hours_sdge_loadCAISO.csv') as csvfile:\n",
    "    data = csv.reader(csvfile, delimiter=',')"
   ]
  },
  {
   "cell_type": "code",
   "execution_count": null,
   "metadata": {
    "collapsed": true
   },
   "outputs": [],
   "source": []
  },
  {
   "cell_type": "code",
   "execution_count": 43,
   "metadata": {
    "collapsed": true
   },
   "outputs": [],
   "source": [
    "loads = pd.read_csv(\n",
    "    filepath_or_buffer='hours_sdge_loadCAISO.csv', \n",
    "    header=0, \n",
    "    sep=',')"
   ]
  },
  {
   "cell_type": "code",
   "execution_count": 45,
   "metadata": {},
   "outputs": [],
   "source": [
    "loads.columns=['list', 'date', 'hour', 'AM-PM', 'node', 'actual', 'day_ahead', 'two_day_ahead']"
   ]
  },
  {
   "cell_type": "code",
   "execution_count": 51,
   "metadata": {},
   "outputs": [
    {
     "data": {
      "text/html": [
       "<div>\n",
       "<style>\n",
       "    .dataframe thead tr:only-child th {\n",
       "        text-align: right;\n",
       "    }\n",
       "\n",
       "    .dataframe thead th {\n",
       "        text-align: left;\n",
       "    }\n",
       "\n",
       "    .dataframe tbody tr th {\n",
       "        vertical-align: top;\n",
       "    }\n",
       "</style>\n",
       "<table border=\"1\" class=\"dataframe\">\n",
       "  <thead>\n",
       "    <tr style=\"text-align: right;\">\n",
       "      <th></th>\n",
       "      <th>list</th>\n",
       "      <th>date</th>\n",
       "      <th>hour</th>\n",
       "      <th>AM-PM</th>\n",
       "      <th>node</th>\n",
       "      <th>actual</th>\n",
       "      <th>day_ahead</th>\n",
       "      <th>two_day_ahead</th>\n",
       "    </tr>\n",
       "  </thead>\n",
       "  <tbody>\n",
       "    <tr>\n",
       "      <th>0</th>\n",
       "      <td>4</td>\n",
       "      <td>2014-01-01 0:00</td>\n",
       "      <td>1:00:00</td>\n",
       "      <td>AM</td>\n",
       "      <td>sdge-tac</td>\n",
       "      <td>2106.0</td>\n",
       "      <td>2003.25</td>\n",
       "      <td>1893.08</td>\n",
       "    </tr>\n",
       "    <tr>\n",
       "      <th>1</th>\n",
       "      <td>9</td>\n",
       "      <td>2014-01-01 0:00</td>\n",
       "      <td>2:00:00</td>\n",
       "      <td>AM</td>\n",
       "      <td>sdge-tac</td>\n",
       "      <td>1991.0</td>\n",
       "      <td>1881.97</td>\n",
       "      <td>1789.16</td>\n",
       "    </tr>\n",
       "    <tr>\n",
       "      <th>2</th>\n",
       "      <td>14</td>\n",
       "      <td>2014-01-01 0:00</td>\n",
       "      <td>3:00:00</td>\n",
       "      <td>AM</td>\n",
       "      <td>sdge-tac</td>\n",
       "      <td>1941.0</td>\n",
       "      <td>1807.96</td>\n",
       "      <td>1730.21</td>\n",
       "    </tr>\n",
       "    <tr>\n",
       "      <th>3</th>\n",
       "      <td>19</td>\n",
       "      <td>2014-01-01 0:00</td>\n",
       "      <td>4:00:00</td>\n",
       "      <td>AM</td>\n",
       "      <td>sdge-tac</td>\n",
       "      <td>1897.0</td>\n",
       "      <td>1763.45</td>\n",
       "      <td>1711.07</td>\n",
       "    </tr>\n",
       "    <tr>\n",
       "      <th>4</th>\n",
       "      <td>24</td>\n",
       "      <td>2014-01-01 0:00</td>\n",
       "      <td>5:00:00</td>\n",
       "      <td>AM</td>\n",
       "      <td>sdge-tac</td>\n",
       "      <td>1896.0</td>\n",
       "      <td>1740.08</td>\n",
       "      <td>1713.06</td>\n",
       "    </tr>\n",
       "  </tbody>\n",
       "</table>\n",
       "</div>"
      ],
      "text/plain": [
       "   list             date     hour AM-PM      node  actual  day_ahead  \\\n",
       "0     4  2014-01-01 0:00  1:00:00    AM  sdge-tac  2106.0    2003.25   \n",
       "1     9  2014-01-01 0:00  2:00:00    AM  sdge-tac  1991.0    1881.97   \n",
       "2    14  2014-01-01 0:00  3:00:00    AM  sdge-tac  1941.0    1807.96   \n",
       "3    19  2014-01-01 0:00  4:00:00    AM  sdge-tac  1897.0    1763.45   \n",
       "4    24  2014-01-01 0:00  5:00:00    AM  sdge-tac  1896.0    1740.08   \n",
       "\n",
       "   two_day_ahead  \n",
       "0        1893.08  \n",
       "1        1789.16  \n",
       "2        1730.21  \n",
       "3        1711.07  \n",
       "4        1713.06  "
      ]
     },
     "execution_count": 51,
     "metadata": {},
     "output_type": "execute_result"
    }
   ],
   "source": [
    "loads.head()"
   ]
  },
  {
   "cell_type": "code",
   "execution_count": 52,
   "metadata": {},
   "outputs": [
    {
     "data": {
      "text/plain": [
       "(31532, 8)"
      ]
     },
     "execution_count": 52,
     "metadata": {},
     "output_type": "execute_result"
    }
   ],
   "source": [
    "loads.shape"
   ]
  },
  {
   "cell_type": "code",
   "execution_count": 55,
   "metadata": {},
   "outputs": [],
   "source": [
    "loads_AM=loads[ loads['AM-PM'] == \"AM\" ]"
   ]
  },
  {
   "cell_type": "code",
   "execution_count": 57,
   "metadata": {},
   "outputs": [
    {
     "data": {
      "text/html": [
       "<div>\n",
       "<style>\n",
       "    .dataframe thead tr:only-child th {\n",
       "        text-align: right;\n",
       "    }\n",
       "\n",
       "    .dataframe thead th {\n",
       "        text-align: left;\n",
       "    }\n",
       "\n",
       "    .dataframe tbody tr th {\n",
       "        vertical-align: top;\n",
       "    }\n",
       "</style>\n",
       "<table border=\"1\" class=\"dataframe\">\n",
       "  <thead>\n",
       "    <tr style=\"text-align: right;\">\n",
       "      <th></th>\n",
       "      <th>list</th>\n",
       "      <th>date</th>\n",
       "      <th>hour</th>\n",
       "      <th>AM-PM</th>\n",
       "      <th>node</th>\n",
       "      <th>actual</th>\n",
       "      <th>day_ahead</th>\n",
       "      <th>two_day_ahead</th>\n",
       "    </tr>\n",
       "  </thead>\n",
       "  <tbody>\n",
       "    <tr>\n",
       "      <th>0</th>\n",
       "      <td>4</td>\n",
       "      <td>2014-01-01 0:00</td>\n",
       "      <td>1:00:00</td>\n",
       "      <td>AM</td>\n",
       "      <td>sdge-tac</td>\n",
       "      <td>2106.0</td>\n",
       "      <td>2003.25</td>\n",
       "      <td>1893.08</td>\n",
       "    </tr>\n",
       "    <tr>\n",
       "      <th>1</th>\n",
       "      <td>9</td>\n",
       "      <td>2014-01-01 0:00</td>\n",
       "      <td>2:00:00</td>\n",
       "      <td>AM</td>\n",
       "      <td>sdge-tac</td>\n",
       "      <td>1991.0</td>\n",
       "      <td>1881.97</td>\n",
       "      <td>1789.16</td>\n",
       "    </tr>\n",
       "    <tr>\n",
       "      <th>2</th>\n",
       "      <td>14</td>\n",
       "      <td>2014-01-01 0:00</td>\n",
       "      <td>3:00:00</td>\n",
       "      <td>AM</td>\n",
       "      <td>sdge-tac</td>\n",
       "      <td>1941.0</td>\n",
       "      <td>1807.96</td>\n",
       "      <td>1730.21</td>\n",
       "    </tr>\n",
       "    <tr>\n",
       "      <th>3</th>\n",
       "      <td>19</td>\n",
       "      <td>2014-01-01 0:00</td>\n",
       "      <td>4:00:00</td>\n",
       "      <td>AM</td>\n",
       "      <td>sdge-tac</td>\n",
       "      <td>1897.0</td>\n",
       "      <td>1763.45</td>\n",
       "      <td>1711.07</td>\n",
       "    </tr>\n",
       "    <tr>\n",
       "      <th>4</th>\n",
       "      <td>24</td>\n",
       "      <td>2014-01-01 0:00</td>\n",
       "      <td>5:00:00</td>\n",
       "      <td>AM</td>\n",
       "      <td>sdge-tac</td>\n",
       "      <td>1896.0</td>\n",
       "      <td>1740.08</td>\n",
       "      <td>1713.06</td>\n",
       "    </tr>\n",
       "  </tbody>\n",
       "</table>\n",
       "</div>"
      ],
      "text/plain": [
       "   list             date     hour AM-PM      node  actual  day_ahead  \\\n",
       "0     4  2014-01-01 0:00  1:00:00    AM  sdge-tac  2106.0    2003.25   \n",
       "1     9  2014-01-01 0:00  2:00:00    AM  sdge-tac  1991.0    1881.97   \n",
       "2    14  2014-01-01 0:00  3:00:00    AM  sdge-tac  1941.0    1807.96   \n",
       "3    19  2014-01-01 0:00  4:00:00    AM  sdge-tac  1897.0    1763.45   \n",
       "4    24  2014-01-01 0:00  5:00:00    AM  sdge-tac  1896.0    1740.08   \n",
       "\n",
       "   two_day_ahead  \n",
       "0        1893.08  \n",
       "1        1789.16  \n",
       "2        1730.21  \n",
       "3        1711.07  \n",
       "4        1713.06  "
      ]
     },
     "execution_count": 57,
     "metadata": {},
     "output_type": "execute_result"
    }
   ],
   "source": [
    "loads_AM.head()"
   ]
  },
  {
   "cell_type": "code",
   "execution_count": null,
   "metadata": {
    "collapsed": true
   },
   "outputs": [],
   "source": [
    "#x = loads[ loads['AM-PM'] == AM ]['AM-PM']"
   ]
  },
  {
   "cell_type": "code",
   "execution_count": 58,
   "metadata": {},
   "outputs": [
    {
     "data": {
      "image/png": "[encoded data removed]",
      "text/plain": [
       "<matplotlib.figure.Figure at 0x1ca56561438>"
      ]
     },
     "metadata": {},
     "output_type": "display_data"
    }
   ],
   "source": [
    "# We can look at a boxplot per hour\n",
    "sns.boxplot(x=\"hour\", y=\"actual\", data=loads_AM)\n",
    "plt.show()"
   ]
  },
  {
   "cell_type": "code",
   "execution_count": null,
   "metadata": {
    "collapsed": true
   },
   "outputs": [],
   "source": []
  }
 ],
 "metadata": {
  "kernelspec": {
   "display_name": "Python 3",
   "language": "python",
   "name": "python3"
  },
  "language_info": {
   "codemirror_mode": {
    "name": "ipython",
    "version": 3
   },
   "file_extension": ".py",
   "mimetype": "text/x-python",
   "name": "python",
   "nbconvert_exporter": "python",
   "pygments_lexer": "ipython3",
   "version": "3.5.3"
  }
 },
 "nbformat": 4,
 "nbformat_minor": 2
}
